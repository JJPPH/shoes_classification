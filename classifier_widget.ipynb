{
  "nbformat": 4,
  "nbformat_minor": 0,
  "metadata": {
    "colab": {
      "name": "classifier_widget.ipynb",
      "private_outputs": true,
      "provenance": [],
      "collapsed_sections": []
    },
    "kernelspec": {
      "name": "python3",
      "display_name": "Python 3"
    }
  },
  "cells": [
    {
      "cell_type": "code",
      "metadata": {
        "id": "8ui_FT4bjcVM"
      },
      "source": [
        "from fastai.vision.all import *\n",
        "from fastai.vision.widgets import *"
      ],
      "execution_count": null,
      "outputs": []
    },
    {
      "source": [
        "#shoes classifier"
      ],
      "cell_type": "markdown",
      "metadata": {}
    },
    {
      "cell_type": "code",
      "metadata": {
        "id": "eoOtEtglHbX-"
      },
      "source": [
        "path = Path()\n",
        "learn_inf = load_learner(path/'export.pkl', cpu=True)\n",
        "btn_upload = widgets.FileUpload()\n",
        "out_pl = widgets.Output()\n",
        "lbl_pred = widgets.Label()"
      ],
      "execution_count": null,
      "outputs": []
    },
    {
      "cell_type": "code",
      "execution_count": null,
      "metadata": {},
      "outputs": [],
      "source": [
        "def on_data_change(change):    \n",
        "    lbl_pred.value = ''     \n",
        "    img = PILImage.create(btn_upload.data[-1])     \n",
        "    out_pl.clear_output()     \n",
        "    with out_pl: display(img.to_thumb(128,128))     \n",
        "    pred,pred_idx,probs = learn_inf.predict(img)    \n",
        "    lbl_pred.value = f'Prediction: {pred}; Probability:{probs[pred_idx]:.04f}'"
      ]
    },
    {
      "cell_type": "code",
      "execution_count": null,
      "metadata": {},
      "outputs": [],
      "source": [
        "btn_upload.observe(on_data_change, names=['data'])\n",
        "display(VBox([widgets.Label('Select an Image of shoes!'), btn_upload, out_pl, label_pred]))"
      ]
    }
  ]
}