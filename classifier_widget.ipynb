{
  "nbformat": 4,
  "nbformat_minor": 0,
  "metadata": {
    "colab": {
      "name": "classifier_widget.ipynb",
      "private_outputs": true,
      "provenance": [],
      "collapsed_sections": []
    },
    "kernelspec": {
      "name": "python3",
      "display_name": "Python 3"
    }
  },
  "cells": [
    {
      "cell_type": "code",
      "metadata": {
        "id": "OSKdSjqzjZfd"
      },
      "source": [
        "#fastai library\r\n",
        "!pip install -Uqq fastbook\r\n",
        "import fastbook\r\n",
        "fastbook.setup_book()"
      ],
      "execution_count": null,
      "outputs": []
    },
    {
      "cell_type": "code",
      "metadata": {
        "id": "8ui_FT4bjcVM"
      },
      "source": [
        "from fastbook import *\r\n",
        "from fastai.vision.widgets import *\r\n",
        "from fastai.vision.all import *"
      ],
      "execution_count": null,
      "outputs": []
    },
    {
      "cell_type": "code",
      "metadata": {
        "id": "hkLXs8aSF6mt"
      },
      "source": [
        "#from google.colab import drive\r\n",
        "#drive.mount('/content/drive')"
      ],
      "execution_count": null,
      "outputs": []
    },
    {
      "cell_type": "code",
      "metadata": {
        "id": "eoOtEtglHbX-"
      },
      "source": [
        "import os\r\n",
        "#path = Path('/content/drive/MyDrive')\r\n",
        "learn_inf = load_learner(path/'export.pkl', cpu=True)\r\n",
        "#declare a button,output,label widget\r\n",
        "btn_upload = widgets.FileUpload()\r\n",
        "out_pl = widgets.Output()\r\n",
        "label_pred = widgets.Label()\r\n",
        "#define an on_data_change function which execute when an image is #uploaded.It gets the image uploaded,display the image,make a #prediction of the image and output prediction, probability of #predictions\r\n",
        "def on_data_change(change):    \r\n",
        "    label_pred.value = ''     \r\n",
        "    img = PILImage.create(btn_upload.data[-1])     \r\n",
        "    out_pl.clear_output()     \r\n",
        "    with out_pl: display(img.to_thumb(128,128))     \r\n",
        "    pred,pred_idx,probs = learn_inf.predict(img)    \r\n",
        "    label_pred.value = f'Prediction: {pred}; Probability:{probs[pred_idx]:.04f}'\r\n",
        "#button to click to upload image\r\n",
        "btn_upload.observe(on_data_change, names=['data'])\r\n",
        "#display label,btn_upload,out_pl,label_pred vertically\r\n",
        "display(VBox([widgets.Label('Select an Image of Malaria Parasite!'), btn_upload, out_pl, lbl_pred]))"
      ],
      "execution_count": null,
      "outputs": []
    }
  ]
}